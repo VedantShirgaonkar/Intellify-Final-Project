{
 "cells": [
  {
   "cell_type": "markdown",
   "id": "2a69c7fa",
   "metadata": {},
   "source": [
    "## STEP 1:"
   ]
  },
  {
   "cell_type": "code",
   "execution_count": 1,
   "id": "d54b5993",
   "metadata": {},
   "outputs": [],
   "source": [
    "import os\n",
    "from openai import OpenAI\n",
    "\n",
    "# Optional: load .env if you keep your key there\n",
    "try:\n",
    "    from dotenv import load_dotenv\n",
    "    load_dotenv()\n",
    "except Exception:\n",
    "    pass\n",
    "\n",
    "# Expect OPENAI_API_KEY to be set in environment\n",
    "assert os.getenv(\"OPENAI_API_KEY\"), \"Please set OPENAI_API_KEY (e.g., in your shell or a .env file).\"\n",
    "\n",
    "client = OpenAI()  # picks up key from env"
   ]
  },
  {
   "cell_type": "code",
   "execution_count": 4,
   "id": "8c6b9f6b",
   "metadata": {},
   "outputs": [],
   "source": [
    "def text_to_gloss(sentence: str):\n",
    "    prompt = f\"\"\"\n",
    "    You are a sign language gloss generator.\n",
    "    Convert the following English sentence into simplified ASL gloss (UPPERCASE keywords only, drop articles like 'the', 'is'):\n",
    "    \n",
    "    Sentence: \"{sentence}\"\n",
    "    Output gloss:\n",
    "    \"\"\"\n",
    "    \n",
    "    response = client.chat.completions.create(\n",
    "        model=\"gpt-4o-mini\",\n",
    "        messages=[{\"role\": \"user\", \"content\": prompt}],\n",
    "        max_tokens=50,\n",
    "        temperature=0.2\n",
    "    )\n",
    "    \n",
    "    gloss = response.choices[0].message.content.strip()\n",
    "    return gloss"
   ]
  },
  {
   "cell_type": "code",
   "execution_count": 5,
   "id": "8d193018",
   "metadata": {},
   "outputs": [
    {
     "name": "stdout",
     "output_type": "stream",
     "text": [
      "HELLO HOW YOU?\n"
     ]
    }
   ],
   "source": [
    "print(text_to_gloss(\"Hello, how are you?\"))"
   ]
  }
 ],
 "metadata": {
  "kernelspec": {
   "display_name": "venv",
   "language": "python",
   "name": "python3"
  },
  "language_info": {
   "codemirror_mode": {
    "name": "ipython",
    "version": 3
   },
   "file_extension": ".py",
   "mimetype": "text/x-python",
   "name": "python",
   "nbconvert_exporter": "python",
   "pygments_lexer": "ipython3",
   "version": "3.12.4"
  }
 },
 "nbformat": 4,
 "nbformat_minor": 5
}
