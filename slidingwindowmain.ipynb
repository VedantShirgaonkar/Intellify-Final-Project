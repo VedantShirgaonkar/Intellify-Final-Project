{
 "cells": [
  {
   "cell_type": "code",
   "execution_count": 1,
   "id": "050d5942",
   "metadata": {},
   "outputs": [
    {
     "name": "stderr",
     "output_type": "stream",
     "text": [
      "2025-08-21 22:38:33.710163: I tensorflow/core/util/port.cc:153] oneDNN custom operations are on. You may see slightly different numerical results due to floating-point round-off errors from different computation orders. To turn them off, set the environment variable `TF_ENABLE_ONEDNN_OPTS=0`.\n",
      "2025-08-21 22:38:33.717129: E external/local_xla/xla/stream_executor/cuda/cuda_fft.cc:467] Unable to register cuFFT factory: Attempting to register factory for plugin cuFFT when one has already been registered\n",
      "WARNING: All log messages before absl::InitializeLog() is called are written to STDERR\n",
      "E0000 00:00:1755796113.725406   69938 cuda_dnn.cc:8579] Unable to register cuDNN factory: Attempting to register factory for plugin cuDNN when one has already been registered\n",
      "E0000 00:00:1755796113.727978   69938 cuda_blas.cc:1407] Unable to register cuBLAS factory: Attempting to register factory for plugin cuBLAS when one has already been registered\n",
      "W0000 00:00:1755796113.734289   69938 computation_placer.cc:177] computation placer already registered. Please check linkage and avoid linking the same target more than once.\n",
      "W0000 00:00:1755796113.734299   69938 computation_placer.cc:177] computation placer already registered. Please check linkage and avoid linking the same target more than once.\n",
      "W0000 00:00:1755796113.734300   69938 computation_placer.cc:177] computation placer already registered. Please check linkage and avoid linking the same target more than once.\n",
      "W0000 00:00:1755796113.734300   69938 computation_placer.cc:177] computation placer already registered. Please check linkage and avoid linking the same target more than once.\n",
      "2025-08-21 22:38:33.736604: I tensorflow/core/platform/cpu_feature_guard.cc:210] This TensorFlow binary is optimized to use available CPU instructions in performance-critical operations.\n",
      "To enable the following instructions: AVX2 AVX_VNNI FMA, in other operations, rebuild TensorFlow with the appropriate compiler flags.\n"
     ]
    }
   ],
   "source": [
    "import cv2 as cv\n",
    "import matplotlib.pyplot as plt\n",
    "import os\n",
    "import numpy as np\n",
    "import mediapipe as mp\n",
    "from sklearn.model_selection import train_test_split\n",
    "from sklearn.utils.class_weight import compute_class_weight\n",
    "from tensorflow.keras.models import Sequential\n",
    "from tensorflow.keras.layers import LSTM, Dense, Dropout, Conv1D, MaxPooling1D, Flatten, TimeDistributed, Bidirectional, BatchNormalization\n",
    "from tensorflow.keras.callbacks import TensorBoard, EarlyStopping, ReduceLROnPlateau\n",
    "from tensorflow.keras.utils import to_categorical\n",
    "import tensorflow as tf\n",
    "from datetime import datetime\n",
    "from tqdm import tqdm"
   ]
  },
  {
   "cell_type": "code",
   "execution_count": 2,
   "id": "64c195b7",
   "metadata": {},
   "outputs": [],
   "source": [
    "mp_holistic = mp.solutions.holistic\n",
    "mp_drawing = mp.solutions.drawing_utils\n",
    "mp_pose = mp.solutions.pose"
   ]
  },
  {
   "cell_type": "code",
   "execution_count": 3,
   "id": "771b2a46",
   "metadata": {},
   "outputs": [],
   "source": [
    "def mediapipe_detection(image, model):\n",
    "    image = cv.cvtColor(image, cv.COLOR_BGR2RGB)\n",
    "    image.flags.writeable = False\n",
    "    results = model.process(image)\n",
    "    image.flags.writeable = True\n",
    "    image = cv.cvtColor(image, cv.COLOR_RGB2BGR)\n",
    "    return image, results"
   ]
  },
  {
   "cell_type": "code",
   "execution_count": 4,
   "id": "d228165b",
   "metadata": {},
   "outputs": [],
   "source": [
    "def draw_styled_landmarks(image, results):\n",
    "    mp_drawing.draw_landmarks(image, results.face_landmarks, mp_holistic.FACEMESH_TESSELATION,\n",
    "                             mp_drawing.DrawingSpec(color=(80,110,10), thickness=1, circle_radius=1),\n",
    "                             mp_drawing.DrawingSpec(color=(80,256,121), thickness=1, circle_radius=1)\n",
    "                             )\n",
    "    mp_drawing.draw_landmarks(image, results.left_hand_landmarks, mp_holistic.HAND_CONNECTIONS,\n",
    "                             mp_drawing.DrawingSpec(color=(121,22,76), thickness=2, circle_radius=4),\n",
    "                             mp_drawing.DrawingSpec(color=(121,44,250), thickness=2, circle_radius=2)\n",
    "                             )\n",
    "    mp_drawing.draw_landmarks(image, results.right_hand_landmarks, mp_holistic.HAND_CONNECTIONS,\n",
    "                             mp_drawing.DrawingSpec(color=(245,117,66), thickness=2, circle_radius=4),\n",
    "                             mp_drawing.DrawingSpec(color=(245,66,230), thickness=2, circle_radius=2)\n",
    "                             )"
   ]
  },
  {
   "cell_type": "code",
   "execution_count": 5,
   "id": "c341fe49",
   "metadata": {},
   "outputs": [],
   "source": [
    "def extract_keypoints(results):\n",
    "    face = np.array([[res.x, res.y, res.z] for res in results.face_landmarks.landmark]).flatten() if results.face_landmarks else np.zeros(468*3)\n",
    "    lh = np.array([[res.x, res.y, res.z] for res in results.left_hand_landmarks.landmark]).flatten() if results.left_hand_landmarks else np.zeros(21*3)\n",
    "    rh = np.array([[res.x, res.y, res.z] for res in results.right_hand_landmarks.landmark]).flatten() if results.right_hand_landmarks else np.zeros(21*3)\n",
    "    return np.concatenate([face, lh, rh])\n"
   ]
  },
  {
   "cell_type": "code",
   "execution_count": 6,
   "id": "933e4346",
   "metadata": {},
   "outputs": [],
   "source": [
    "DATA_PATH = '/home/smayan/Desktop/ASL/dataset/SL'\n",
    "sequence_length = 30\n",
    "min_sequences_per_class = 10"
   ]
  },
  {
   "cell_type": "code",
   "execution_count": 7,
   "id": "a6c996c6",
   "metadata": {},
   "outputs": [],
   "source": [
    "# actions = [\n",
    "#     'a', 'about', 'again', 'all', 'also', 'always', 'and', 'angry', 'animal', 'answer', \n",
    "#     'apple', 'ask', 'baby', 'bad', 'bathroom', 'beautiful', 'because', 'bed', 'before', \n",
    "#     'big', 'book', 'boy', 'brother', 'but', 'buy', 'bye', 'call', 'can', 'car', 'cat', \n",
    "#     'city', 'class', 'clean', 'clothes', 'cold', 'college', 'color', 'come', 'computer', \n",
    "#     'cook', 'dad', 'day', 'deaf', 'different', 'doctor', 'dog', 'done', \"don't want\", \n",
    "#     'down', 'drink', 'eat', 'eight', 'enough', 'family', 'fast', 'father', 'feel', \n",
    "#     'find', 'fine', 'finish', 'first', 'five', 'food', 'for', 'four', 'friend', 'from', \n",
    "#     'get', 'girl', 'give', 'go', 'good', 'goodbye', 'happy', 'hard', 'have', \n",
    "#     'head', 'hearing', 'hello', 'help', 'her', 'here', 'home', 'hospital', 'hot', \n",
    "#     'house', 'how', 'hungry', 'i', 'if', 'in', 'know', 'language', 'last', 'later', \n",
    "#     'learn', 'letter', 'like', 'little bit', 'live', 'look at', 'love', 'make', 'man', \n",
    "#     'many', 'me', 'meet', 'milk', 'mom', 'money', 'month', 'more', 'morning', 'mother', \n",
    "#     'movie', 'music', 'my', 'name', 'need', 'never', 'new', 'nice', 'night', 'nine', \n",
    "#     'no', 'not', 'now', 'old', 'on', 'one', 'open', 'orange', 'our', 'out', 'people', \n",
    "#     'phone', 'play', 'please', 'put', 'question', 'read', 'ready', 'red', 'right', 'sad', \n",
    "#     'same', 'say', 'school', 'see', 'seven', 'she', 'shirt', 'shoes', 'show', 'sick', \n",
    "#     'sign', 'sign language', 'sister', 'sit', 'six', 'sleep', 'slow', 'small', 'sorry', \n",
    "#     'stand', 'start', 'stop', 'store', 'story', 'student', 'study', 'talk', 'teach', \n",
    "#     'teacher', 'tell', 'ten', 'thank you', 'that', 'their', 'they', 'thing', \n",
    "#     'think', 'thirsty', 'this', 'three', 'time', 'tired', 'to', 'today', 'tomorrow', \n",
    "#     'two', 'understand', 'up', 'use', 'wait', 'walk', 'want', 'water', 'way', \n",
    "#     'we', 'wear', 'week', 'what', 'when', 'where', 'which', 'white', 'who', 'why', \n",
    "#     'will', 'with', 'woman', 'word', 'work', 'world', 'write', 'wrong', 'year', 'yellow', \n",
    "#     'yes', 'yesterday', 'you', 'your'\n",
    "# ]\n",
    "# label_map = {label: num for num, label in enumerate(actions)}"
   ]
  },
  {
   "cell_type": "code",
   "execution_count": 8,
   "id": "3ac9bfd2",
   "metadata": {},
   "outputs": [],
   "source": [
    "actions = ['hello', 'student','i','bye','goodbye','college','bye','how', 'you', 'your', 'want', 'nice', 'to', 'meet', 'doctor', 'time']\n",
    "label_map = {label: num for num, label in enumerate(actions)}"
   ]
  },
  {
   "cell_type": "code",
   "execution_count": 9,
   "id": "68d42490",
   "metadata": {},
   "outputs": [
    {
     "data": {
      "text/plain": [
       "16"
      ]
     },
     "execution_count": 9,
     "metadata": {},
     "output_type": "execute_result"
    }
   ],
   "source": [
    "len(actions)"
   ]
  },
  {
   "cell_type": "code",
   "execution_count": 10,
   "id": "5ac3951b",
   "metadata": {},
   "outputs": [],
   "source": [
    "sequences, labels = [], []"
   ]
  },
  {
   "cell_type": "code",
   "execution_count": 11,
   "id": "08e8a122",
   "metadata": {},
   "outputs": [
    {
     "name": "stderr",
     "output_type": "stream",
     "text": [
      "WARNING: All log messages before absl::InitializeLog() is called are written to STDERR\n",
      "I0000 00:00:1755796114.989675   69938 gl_context_egl.cc:85] Successfully initialized EGL. Major : 1 Minor: 5\n",
      "I0000 00:00:1755796115.045730   70044 gl_context.cc:369] GL version: 3.2 (OpenGL ES 3.2 NVIDIA 570.172.08), renderer: NVIDIA GeForce RTX 4070 SUPER/PCIe/SSE2\n"
     ]
    },
    {
     "name": "stdout",
     "output_type": "stream",
     "text": [
      "\n",
      "Processing action: hello (4 videos)\n"
     ]
    },
    {
     "name": "stderr",
     "output_type": "stream",
     "text": [
      "Processing videos for 'hello':   0%|          | 0/4 [00:00<?, ?it/s]INFO: Created TensorFlow Lite XNNPACK delegate for CPU.\n",
      "W0000 00:00:1755796115.081397   70020 inference_feedback_manager.cc:114] Feedback manager requires a model with a single signature inference. Disabling support for feedback tensors.\n",
      "W0000 00:00:1755796115.101865   70043 inference_feedback_manager.cc:114] Feedback manager requires a model with a single signature inference. Disabling support for feedback tensors.\n",
      "W0000 00:00:1755796115.103691   70036 inference_feedback_manager.cc:114] Feedback manager requires a model with a single signature inference. Disabling support for feedback tensors.\n",
      "W0000 00:00:1755796115.103854   70030 inference_feedback_manager.cc:114] Feedback manager requires a model with a single signature inference. Disabling support for feedback tensors.\n",
      "W0000 00:00:1755796115.104175   70017 inference_feedback_manager.cc:114] Feedback manager requires a model with a single signature inference. Disabling support for feedback tensors.\n",
      "W0000 00:00:1755796115.108502   70039 inference_feedback_manager.cc:114] Feedback manager requires a model with a single signature inference. Disabling support for feedback tensors.\n",
      "W0000 00:00:1755796115.113364   70020 inference_feedback_manager.cc:114] Feedback manager requires a model with a single signature inference. Disabling support for feedback tensors.\n",
      "W0000 00:00:1755796115.113769   70035 inference_feedback_manager.cc:114] Feedback manager requires a model with a single signature inference. Disabling support for feedback tensors.\n",
      "W0000 00:00:1755796115.118713   70020 landmark_projection_calculator.cc:186] Using NORM_RECT without IMAGE_DIMENSIONS is only supported for the square ROI. Provide IMAGE_DIMENSIONS or use PROJECTION_MATRIX.\n",
      "Processing videos for 'hello': 100%|██████████| 4/4 [00:13<00:00,  3.47s/it]\n"
     ]
    },
    {
     "name": "stdout",
     "output_type": "stream",
     "text": [
      "Generated 20 sequences for hello\n",
      "\n",
      "Processing action: student (8 videos)\n"
     ]
    },
    {
     "name": "stderr",
     "output_type": "stream",
     "text": [
      "Processing videos for 'student': 100%|██████████| 8/8 [00:32<00:00,  4.01s/it]\n"
     ]
    },
    {
     "name": "stdout",
     "output_type": "stream",
     "text": [
      "Generated 48 sequences for student\n",
      "\n",
      "Processing action: i (5 videos)\n"
     ]
    },
    {
     "name": "stderr",
     "output_type": "stream",
     "text": [
      "Processing videos for 'i': 100%|██████████| 5/5 [00:16<00:00,  3.36s/it]\n"
     ]
    },
    {
     "name": "stdout",
     "output_type": "stream",
     "text": [
      "Generated 25 sequences for i\n",
      "\n",
      "Processing action: bye (5 videos)\n"
     ]
    },
    {
     "name": "stderr",
     "output_type": "stream",
     "text": [
      "Processing videos for 'bye': 100%|██████████| 5/5 [00:19<00:00,  3.99s/it]\n"
     ]
    },
    {
     "name": "stdout",
     "output_type": "stream",
     "text": [
      "Generated 30 sequences for bye\n",
      "\n",
      "Processing action: goodbye (5 videos)\n"
     ]
    },
    {
     "name": "stderr",
     "output_type": "stream",
     "text": [
      "Processing videos for 'goodbye': 100%|██████████| 5/5 [00:20<00:00,  4.16s/it]\n"
     ]
    },
    {
     "name": "stdout",
     "output_type": "stream",
     "text": [
      "Generated 31 sequences for goodbye\n",
      "\n",
      "Processing action: college (7 videos)\n"
     ]
    },
    {
     "name": "stderr",
     "output_type": "stream",
     "text": [
      "Processing videos for 'college': 100%|██████████| 7/7 [00:29<00:00,  4.28s/it]\n"
     ]
    },
    {
     "name": "stdout",
     "output_type": "stream",
     "text": [
      "Generated 45 sequences for college\n",
      "\n",
      "Processing action: bye (5 videos)\n"
     ]
    },
    {
     "name": "stderr",
     "output_type": "stream",
     "text": [
      "Processing videos for 'bye': 100%|██████████| 5/5 [00:20<00:00,  4.08s/it]\n"
     ]
    },
    {
     "name": "stdout",
     "output_type": "stream",
     "text": [
      "Generated 30 sequences for bye\n",
      "\n",
      "Processing action: how (9 videos)\n"
     ]
    },
    {
     "name": "stderr",
     "output_type": "stream",
     "text": [
      "Processing videos for 'how': 100%|██████████| 9/9 [00:30<00:00,  3.38s/it]\n"
     ]
    },
    {
     "name": "stdout",
     "output_type": "stream",
     "text": [
      "Generated 45 sequences for how\n",
      "\n",
      "Processing action: you (8 videos)\n"
     ]
    },
    {
     "name": "stderr",
     "output_type": "stream",
     "text": [
      "Processing videos for 'you': 100%|██████████| 8/8 [00:32<00:00,  4.03s/it]\n"
     ]
    },
    {
     "name": "stdout",
     "output_type": "stream",
     "text": [
      "Generated 48 sequences for you\n",
      "\n",
      "Processing action: your (6 videos)\n"
     ]
    },
    {
     "name": "stderr",
     "output_type": "stream",
     "text": [
      "Processing videos for 'your': 100%|██████████| 6/6 [00:26<00:00,  4.34s/it]\n"
     ]
    },
    {
     "name": "stdout",
     "output_type": "stream",
     "text": [
      "Generated 36 sequences for your\n",
      "\n",
      "Processing action: want (10 videos)\n"
     ]
    },
    {
     "name": "stderr",
     "output_type": "stream",
     "text": [
      "Processing videos for 'want': 100%|██████████| 10/10 [00:35<00:00,  3.53s/it]\n"
     ]
    },
    {
     "name": "stdout",
     "output_type": "stream",
     "text": [
      "Generated 52 sequences for want\n",
      "\n",
      "Processing action: nice (6 videos)\n"
     ]
    },
    {
     "name": "stderr",
     "output_type": "stream",
     "text": [
      "Processing videos for 'nice': 100%|██████████| 6/6 [00:20<00:00,  3.39s/it]\n"
     ]
    },
    {
     "name": "stdout",
     "output_type": "stream",
     "text": [
      "Generated 30 sequences for nice\n",
      "\n",
      "Processing action: to (8 videos)\n"
     ]
    },
    {
     "name": "stderr",
     "output_type": "stream",
     "text": [
      "Processing videos for 'to': 100%|██████████| 8/8 [00:22<00:00,  2.77s/it]\n"
     ]
    },
    {
     "name": "stdout",
     "output_type": "stream",
     "text": [
      "Generated 32 sequences for to\n",
      "\n",
      "Processing action: meet (9 videos)\n"
     ]
    },
    {
     "name": "stderr",
     "output_type": "stream",
     "text": [
      "Processing videos for 'meet': 100%|██████████| 9/9 [00:40<00:00,  4.46s/it]\n"
     ]
    },
    {
     "name": "stdout",
     "output_type": "stream",
     "text": [
      "Generated 59 sequences for meet\n",
      "\n",
      "Processing action: doctor (11 videos)\n"
     ]
    },
    {
     "name": "stderr",
     "output_type": "stream",
     "text": [
      "Processing videos for 'doctor': 100%|██████████| 11/11 [00:45<00:00,  4.18s/it]\n"
     ]
    },
    {
     "name": "stdout",
     "output_type": "stream",
     "text": [
      "Generated 67 sequences for doctor\n",
      "\n",
      "Processing action: time (8 videos)\n"
     ]
    },
    {
     "name": "stderr",
     "output_type": "stream",
     "text": [
      "Processing videos for 'time': 100%|██████████| 8/8 [00:29<00:00,  3.64s/it]"
     ]
    },
    {
     "name": "stdout",
     "output_type": "stream",
     "text": [
      "Generated 42 sequences for time\n"
     ]
    },
    {
     "name": "stderr",
     "output_type": "stream",
     "text": [
      "\n"
     ]
    }
   ],
   "source": [
    "with mp_holistic.Holistic(min_detection_confidence=0.5, min_tracking_confidence=0.5) as holistic:\n",
    "    for action in actions:\n",
    "        action_path = os.path.join(DATA_PATH, action)\n",
    "        video_files = [f for f in os.listdir(action_path) if f.endswith(('.mp4', '.avi', '.mov'))]\n",
    "        \n",
    "        if not video_files:\n",
    "            print(f\"Warning: No videos found for action '{action}'. Skipping.\")\n",
    "            continue\n",
    "            \n",
    "        print(f\"\\nProcessing action: {action} ({len(video_files)} videos)\")\n",
    "        action_sequences = []\n",
    "\n",
    "        for video_file in tqdm(video_files, desc=f\"Processing videos for '{action}'\"):\n",
    "            video_path = os.path.join(action_path, video_file)\n",
    "            cap = cv.VideoCapture(video_path)\n",
    "            total_frames = int(cap.get(cv.CAP_PROP_FRAME_COUNT))\n",
    "            \n",
    "            if total_frames < sequence_length:\n",
    "                cap.release()\n",
    "                continue\n",
    "\n",
    "            stride = max(1, (total_frames - sequence_length) // 5)\n",
    "\n",
    "            for start_frame in range(0, total_frames - sequence_length + 1, stride):\n",
    "                cap.set(cv.CAP_PROP_POS_FRAMES, start_frame)\n",
    "                sequence = []\n",
    "\n",
    "                for _ in range(sequence_length):\n",
    "                    ret, frame = cap.read()\n",
    "                    if not ret:\n",
    "                        break\n",
    "                    \n",
    "                    _, results = mediapipe_detection(frame, holistic)\n",
    "                    \n",
    "                    keypoints = extract_keypoints(results)\n",
    "                    sequence.append(keypoints)\n",
    "\n",
    "                if len(sequence) == sequence_length:\n",
    "                    action_sequences.append(sequence)\n",
    "            \n",
    "            cap.release()\n",
    "\n",
    "        while len(action_sequences) < min_sequences_per_class and action_sequences:\n",
    "            original_seq = np.array(action_sequences[np.random.randint(0, len(action_sequences))])\n",
    "            noise = np.random.normal(0, 0.01, original_seq.shape)\n",
    "            augmented_seq = original_seq + noise\n",
    "            action_sequences.append(augmented_seq.tolist())\n",
    "\n",
    "        sequences.extend(action_sequences)\n",
    "        labels.extend([label_map[action]] * len(action_sequences))\n",
    "        print(f\"Generated {len(action_sequences)} sequences for {action}\")"
   ]
  },
  {
   "cell_type": "code",
   "execution_count": 12,
   "id": "72cbcded",
   "metadata": {},
   "outputs": [
    {
     "name": "stdout",
     "output_type": "stream",
     "text": [
      "\n",
      "Total Dataset shape: X=(640, 30, 1530), y=(640,)\n"
     ]
    }
   ],
   "source": [
    "X = np.array(sequences)\n",
    "y = np.array(labels)\n",
    "\n",
    "if X.shape[0] == 0:\n",
    "    raise ValueError(\"No sequences were generated. Check your DATA_PATH and video files.\")\n",
    "\n",
    "print(f\"\\nTotal Dataset shape: X={X.shape}, y={y.shape}\")"
   ]
  },
  {
   "cell_type": "code",
   "execution_count": null,
   "id": "6aa11819",
   "metadata": {},
   "outputs": [],
   "source": [
    "np.random.seed(42)\n",
    "perm = np.random.permutation(len(X))\n",
    "X = X[perm]\n",
    "y = y[perm]"
   ]
  },
  {
   "cell_type": "code",
   "execution_count": 13,
   "id": "ca728a51",
   "metadata": {},
   "outputs": [
    {
     "data": {
      "text/plain": [
       "(640, 30, 1530)"
      ]
     },
     "execution_count": 13,
     "metadata": {},
     "output_type": "execute_result"
    }
   ],
   "source": [
    "X.shape"
   ]
  },
  {
   "cell_type": "code",
   "execution_count": 14,
   "id": "15d776dd",
   "metadata": {},
   "outputs": [
    {
     "data": {
      "text/plain": [
       "array([[[ 0.59060645,  0.298004  , -0.0141108 , ...,  0.        ,\n",
       "          0.        ,  0.        ],\n",
       "        [ 0.58998013,  0.29970837, -0.01371168, ...,  0.        ,\n",
       "          0.        ,  0.        ],\n",
       "        [ 0.58967638,  0.29977855, -0.01387646, ...,  0.        ,\n",
       "          0.        ,  0.        ],\n",
       "        ...,\n",
       "        [ 0.60153723,  0.33077788, -0.0111043 , ...,  0.53252566,\n",
       "          0.21737686, -0.02696047],\n",
       "        [ 0.6021049 ,  0.32972935, -0.01121327, ...,  0.53052449,\n",
       "          0.21563651, -0.02373665],\n",
       "        [ 0.60210556,  0.32775372, -0.01135233, ...,  0.52632856,\n",
       "          0.20170368, -0.0168931 ]],\n",
       "\n",
       "       [[ 0.59463733,  0.30495709, -0.01375333, ...,  0.        ,\n",
       "          0.        ,  0.        ],\n",
       "        [ 0.59636772,  0.3064371 , -0.0135813 , ...,  0.        ,\n",
       "          0.        ,  0.        ],\n",
       "        [ 0.5975787 ,  0.30605981, -0.01378598, ...,  0.        ,\n",
       "          0.        ,  0.        ],\n",
       "        ...,\n",
       "        [ 0.60318059,  0.32912713, -0.01227444, ...,  0.39720786,\n",
       "          0.0571397 , -0.03165373],\n",
       "        [ 0.60352653,  0.32772985, -0.01192445, ...,  0.39826375,\n",
       "          0.05398442, -0.03316445],\n",
       "        [ 0.60277724,  0.32632834, -0.01184831, ...,  0.40137234,\n",
       "          0.05010876, -0.03371636]],\n",
       "\n",
       "       [[ 0.59755534,  0.3115913 , -0.01447429, ...,  0.40330717,\n",
       "          0.48778996, -0.0294873 ],\n",
       "        [ 0.59815931,  0.31198353, -0.0139928 , ...,  0.41982466,\n",
       "          0.37776726, -0.02816518],\n",
       "        [ 0.5985437 ,  0.3134858 , -0.01389107, ...,  0.44483197,\n",
       "          0.30408612, -0.04778945],\n",
       "        ...,\n",
       "        [ 0.60129076,  0.32675111, -0.01169443, ...,  0.39682502,\n",
       "          0.06120978, -0.03403916],\n",
       "        [ 0.60123867,  0.32656443, -0.01169518, ...,  0.39526027,\n",
       "          0.06541331, -0.03445193],\n",
       "        [ 0.60102445,  0.32657933, -0.01161115, ...,  0.39322942,\n",
       "          0.07442273, -0.03459419]],\n",
       "\n",
       "       ...,\n",
       "\n",
       "       [[ 0.52805769,  0.28234604, -0.01113003, ...,  0.        ,\n",
       "          0.        ,  0.        ],\n",
       "        [ 0.52913958,  0.28251445, -0.01127033, ...,  0.        ,\n",
       "          0.        ,  0.        ],\n",
       "        [ 0.5308606 ,  0.28361708, -0.01111272, ...,  0.        ,\n",
       "          0.        ,  0.        ],\n",
       "        ...,\n",
       "        [ 0.54574358,  0.31538379, -0.00887183, ...,  0.46412179,\n",
       "          0.55661935, -0.02362583],\n",
       "        [ 0.54510093,  0.31479886, -0.00893564, ...,  0.46548188,\n",
       "          0.55919987, -0.01912746],\n",
       "        [ 0.54483825,  0.31445408, -0.00892124, ...,  0.46637142,\n",
       "          0.56604612, -0.01827009]],\n",
       "\n",
       "       [[ 0.54882824,  0.31284833, -0.00955555, ...,  0.46412459,\n",
       "          0.51970589, -0.02414747],\n",
       "        [ 0.54842967,  0.31234443, -0.00944359, ...,  0.46223104,\n",
       "          0.50457597, -0.02427762],\n",
       "        [ 0.54843116,  0.31244904, -0.00963197, ...,  0.46152508,\n",
       "          0.49256349, -0.02252498],\n",
       "        ...,\n",
       "        [ 0.5330385 ,  0.30574393, -0.00911964, ...,  0.44061154,\n",
       "          0.86168444, -0.01101416],\n",
       "        [ 0.53228867,  0.30491984, -0.00888944, ...,  0.41568762,\n",
       "          0.89428842, -0.00632005],\n",
       "        [ 0.53179431,  0.30285305, -0.00886437, ...,  0.40965006,\n",
       "          0.93843383, -0.00453774]],\n",
       "\n",
       "       [[ 0.54411089,  0.31630987, -0.00846204, ...,  0.46743876,\n",
       "          0.59174353, -0.01810314],\n",
       "        [ 0.5434801 ,  0.31535289, -0.00810821, ...,  0.46734345,\n",
       "          0.60557795, -0.01736163],\n",
       "        [ 0.54245138,  0.31389001, -0.00874753, ...,  0.46726468,\n",
       "          0.61673987, -0.01594606],\n",
       "        ...,\n",
       "        [ 0.52446145,  0.29149047, -0.00973807, ...,  0.        ,\n",
       "          0.        ,  0.        ],\n",
       "        [ 0.52455288,  0.29133293, -0.00964078, ...,  0.        ,\n",
       "          0.        ,  0.        ],\n",
       "        [ 0.52412266,  0.2909722 , -0.00973872, ...,  0.        ,\n",
       "          0.        ,  0.        ]]])"
      ]
     },
     "execution_count": 14,
     "metadata": {},
     "output_type": "execute_result"
    }
   ],
   "source": [
    "X"
   ]
  },
  {
   "cell_type": "code",
   "execution_count": 16,
   "id": "0bc1164a",
   "metadata": {},
   "outputs": [
    {
     "data": {
      "text/plain": [
       "array([[[ 0.59060645,  0.298004  , -0.0141108 , ...,  0.        ,\n",
       "          0.        ,  0.        ],\n",
       "        [ 0.58998013,  0.29970837, -0.01371168, ...,  0.        ,\n",
       "          0.        ,  0.        ],\n",
       "        [ 0.58967638,  0.29977855, -0.01387646, ...,  0.        ,\n",
       "          0.        ,  0.        ],\n",
       "        ...,\n",
       "        [ 0.60153723,  0.33077788, -0.0111043 , ...,  0.53252566,\n",
       "          0.21737686, -0.02696047],\n",
       "        [ 0.6021049 ,  0.32972935, -0.01121327, ...,  0.53052449,\n",
       "          0.21563651, -0.02373665],\n",
       "        [ 0.60210556,  0.32775372, -0.01135233, ...,  0.52632856,\n",
       "          0.20170368, -0.0168931 ]],\n",
       "\n",
       "       [[ 0.59463733,  0.30495709, -0.01375333, ...,  0.        ,\n",
       "          0.        ,  0.        ],\n",
       "        [ 0.59636772,  0.3064371 , -0.0135813 , ...,  0.        ,\n",
       "          0.        ,  0.        ],\n",
       "        [ 0.5975787 ,  0.30605981, -0.01378598, ...,  0.        ,\n",
       "          0.        ,  0.        ],\n",
       "        ...,\n",
       "        [ 0.60318059,  0.32912713, -0.01227444, ...,  0.39720786,\n",
       "          0.0571397 , -0.03165373],\n",
       "        [ 0.60352653,  0.32772985, -0.01192445, ...,  0.39826375,\n",
       "          0.05398442, -0.03316445],\n",
       "        [ 0.60277724,  0.32632834, -0.01184831, ...,  0.40137234,\n",
       "          0.05010876, -0.03371636]],\n",
       "\n",
       "       [[ 0.59755534,  0.3115913 , -0.01447429, ...,  0.40330717,\n",
       "          0.48778996, -0.0294873 ],\n",
       "        [ 0.59815931,  0.31198353, -0.0139928 , ...,  0.41982466,\n",
       "          0.37776726, -0.02816518],\n",
       "        [ 0.5985437 ,  0.3134858 , -0.01389107, ...,  0.44483197,\n",
       "          0.30408612, -0.04778945],\n",
       "        ...,\n",
       "        [ 0.60129076,  0.32675111, -0.01169443, ...,  0.39682502,\n",
       "          0.06120978, -0.03403916],\n",
       "        [ 0.60123867,  0.32656443, -0.01169518, ...,  0.39526027,\n",
       "          0.06541331, -0.03445193],\n",
       "        [ 0.60102445,  0.32657933, -0.01161115, ...,  0.39322942,\n",
       "          0.07442273, -0.03459419]],\n",
       "\n",
       "       ...,\n",
       "\n",
       "       [[ 0.52805769,  0.28234604, -0.01113003, ...,  0.        ,\n",
       "          0.        ,  0.        ],\n",
       "        [ 0.52913958,  0.28251445, -0.01127033, ...,  0.        ,\n",
       "          0.        ,  0.        ],\n",
       "        [ 0.5308606 ,  0.28361708, -0.01111272, ...,  0.        ,\n",
       "          0.        ,  0.        ],\n",
       "        ...,\n",
       "        [ 0.54574358,  0.31538379, -0.00887183, ...,  0.46412179,\n",
       "          0.55661935, -0.02362583],\n",
       "        [ 0.54510093,  0.31479886, -0.00893564, ...,  0.46548188,\n",
       "          0.55919987, -0.01912746],\n",
       "        [ 0.54483825,  0.31445408, -0.00892124, ...,  0.46637142,\n",
       "          0.56604612, -0.01827009]],\n",
       "\n",
       "       [[ 0.54882824,  0.31284833, -0.00955555, ...,  0.46412459,\n",
       "          0.51970589, -0.02414747],\n",
       "        [ 0.54842967,  0.31234443, -0.00944359, ...,  0.46223104,\n",
       "          0.50457597, -0.02427762],\n",
       "        [ 0.54843116,  0.31244904, -0.00963197, ...,  0.46152508,\n",
       "          0.49256349, -0.02252498],\n",
       "        ...,\n",
       "        [ 0.5330385 ,  0.30574393, -0.00911964, ...,  0.44061154,\n",
       "          0.86168444, -0.01101416],\n",
       "        [ 0.53228867,  0.30491984, -0.00888944, ...,  0.41568762,\n",
       "          0.89428842, -0.00632005],\n",
       "        [ 0.53179431,  0.30285305, -0.00886437, ...,  0.40965006,\n",
       "          0.93843383, -0.00453774]],\n",
       "\n",
       "       [[ 0.54411089,  0.31630987, -0.00846204, ...,  0.46743876,\n",
       "          0.59174353, -0.01810314],\n",
       "        [ 0.5434801 ,  0.31535289, -0.00810821, ...,  0.46734345,\n",
       "          0.60557795, -0.01736163],\n",
       "        [ 0.54245138,  0.31389001, -0.00874753, ...,  0.46726468,\n",
       "          0.61673987, -0.01594606],\n",
       "        ...,\n",
       "        [ 0.52446145,  0.29149047, -0.00973807, ...,  0.        ,\n",
       "          0.        ,  0.        ],\n",
       "        [ 0.52455288,  0.29133293, -0.00964078, ...,  0.        ,\n",
       "          0.        ,  0.        ],\n",
       "        [ 0.52412266,  0.2909722 , -0.00973872, ...,  0.        ,\n",
       "          0.        ,  0.        ]]])"
      ]
     },
     "execution_count": 16,
     "metadata": {},
     "output_type": "execute_result"
    }
   ],
   "source": [
    "X"
   ]
  },
  {
   "cell_type": "code",
   "execution_count": 17,
   "id": "ad02459f",
   "metadata": {},
   "outputs": [
    {
     "data": {
      "text/plain": [
       "(640,)"
      ]
     },
     "execution_count": 17,
     "metadata": {},
     "output_type": "execute_result"
    }
   ],
   "source": [
    "y.shape"
   ]
  },
  {
   "cell_type": "code",
   "execution_count": 18,
   "id": "4dd62694",
   "metadata": {},
   "outputs": [],
   "source": [
    "np.save('/media/smayan/500GB SSD/X_min.npy', X)\n",
    "np.save('/media/smayan/500GB SSD/y_min.npy', y)"
   ]
  },
  {
   "cell_type": "code",
   "execution_count": 19,
   "id": "2cf58ad0",
   "metadata": {},
   "outputs": [],
   "source": [
    "X = np.load('/media/smayan/500GB SSD/X_min.npy')\n",
    "y = np.load('/media/smayan/500GB SSD/y_min.npy')"
   ]
  },
  {
   "cell_type": "code",
   "execution_count": null,
   "id": "d72a3ccb",
   "metadata": {},
   "outputs": [],
   "source": []
  }
 ],
 "metadata": {
  "kernelspec": {
   "display_name": ".conda",
   "language": "python",
   "name": "python3"
  },
  "language_info": {
   "codemirror_mode": {
    "name": "ipython",
    "version": 3
   },
   "file_extension": ".py",
   "mimetype": "text/x-python",
   "name": "python",
   "nbconvert_exporter": "python",
   "pygments_lexer": "ipython3",
   "version": "3.11.9"
  }
 },
 "nbformat": 4,
 "nbformat_minor": 5
}
